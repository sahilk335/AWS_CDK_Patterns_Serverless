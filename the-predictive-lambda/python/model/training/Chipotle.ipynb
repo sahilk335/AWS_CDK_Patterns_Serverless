{
 "cells": [
  {
   "cell_type": "code",
   "execution_count": 3,
   "metadata": {},
   "outputs": [
    {
     "data": {
      "text/html": [
       "<div>\n",
       "<style scoped>\n",
       "    .dataframe tbody tr th:only-of-type {\n",
       "        vertical-align: middle;\n",
       "    }\n",
       "\n",
       "    .dataframe tbody tr th {\n",
       "        vertical-align: top;\n",
       "    }\n",
       "\n",
       "    .dataframe thead th {\n",
       "        text-align: right;\n",
       "    }\n",
       "</style>\n",
       "<table border=\"1\" class=\"dataframe\">\n",
       "  <thead>\n",
       "    <tr style=\"text-align: right;\">\n",
       "      <th></th>\n",
       "      <th>state</th>\n",
       "      <th>location</th>\n",
       "      <th>address</th>\n",
       "      <th>latitude</th>\n",
       "      <th>longitude</th>\n",
       "    </tr>\n",
       "  </thead>\n",
       "  <tbody>\n",
       "    <tr>\n",
       "      <th>0</th>\n",
       "      <td>Alabama</td>\n",
       "      <td>Auburn</td>\n",
       "      <td>346 W Magnolia Ave Auburn, AL 36832 US</td>\n",
       "      <td>32.606813</td>\n",
       "      <td>-85.487328</td>\n",
       "    </tr>\n",
       "    <tr>\n",
       "      <th>1</th>\n",
       "      <td>Alabama</td>\n",
       "      <td>Birmingham</td>\n",
       "      <td>300 20th St S Birmingham, AL 35233 US</td>\n",
       "      <td>33.509721</td>\n",
       "      <td>-86.802756</td>\n",
       "    </tr>\n",
       "    <tr>\n",
       "      <th>2</th>\n",
       "      <td>Alabama</td>\n",
       "      <td>Birmingham</td>\n",
       "      <td>3220 Morrow Rd Birmingham, AL 35235 US</td>\n",
       "      <td>33.595581</td>\n",
       "      <td>-86.647437</td>\n",
       "    </tr>\n",
       "    <tr>\n",
       "      <th>3</th>\n",
       "      <td>Alabama</td>\n",
       "      <td>Birmingham</td>\n",
       "      <td>4719 Highway 280 Birmingham, AL 35242 US</td>\n",
       "      <td>33.422582</td>\n",
       "      <td>-86.698279</td>\n",
       "    </tr>\n",
       "    <tr>\n",
       "      <th>4</th>\n",
       "      <td>Alabama</td>\n",
       "      <td>Cullman</td>\n",
       "      <td>1821 Cherokee Ave SW Cullman, AL 35055 US</td>\n",
       "      <td>34.154134</td>\n",
       "      <td>-86.841220</td>\n",
       "    </tr>\n",
       "  </tbody>\n",
       "</table>\n",
       "</div>"
      ],
      "text/plain": [
       "     state    location                                    address   latitude  \\\n",
       "0  Alabama      Auburn     346 W Magnolia Ave Auburn, AL 36832 US  32.606813   \n",
       "1  Alabama  Birmingham      300 20th St S Birmingham, AL 35233 US  33.509721   \n",
       "2  Alabama  Birmingham     3220 Morrow Rd Birmingham, AL 35235 US  33.595581   \n",
       "3  Alabama  Birmingham   4719 Highway 280 Birmingham, AL 35242 US  33.422582   \n",
       "4  Alabama     Cullman  1821 Cherokee Ave SW Cullman, AL 35055 US  34.154134   \n",
       "\n",
       "   longitude  \n",
       "0 -85.487328  \n",
       "1 -86.802756  \n",
       "2 -86.647437  \n",
       "3 -86.698279  \n",
       "4 -86.841220  "
      ]
     },
     "execution_count": 3,
     "metadata": {},
     "output_type": "execute_result"
    }
   ],
   "source": [
    "import pandas as pd\n",
    "\n",
    "def load_chipotle_data():\n",
    "    return pd.read_csv(\"chipotle_stores.csv\")\n",
    "\n",
    "stores = load_chipotle_data()\n",
    "stores.head()"
   ]
  },
  {
   "cell_type": "code",
   "execution_count": 8,
   "metadata": {},
   "outputs": [
    {
     "data": {
      "text/plain": [
       "California        421\n",
       "Texas             226\n",
       "Ohio              193\n",
       "Florida           177\n",
       "New York          160\n",
       "Illinois          144\n",
       "Virginia          107\n",
       "Pennsylvania       96\n",
       "Maryland           94\n",
       "Arizona            85\n",
       "Colorado           79\n",
       "Minnesota          71\n",
       "New Jersey         69\n",
       "North Carolina     65\n",
       "Massachusetts      62\n",
       "Georgia            61\n",
       "Washington         43\n",
       "Indiana            40\n",
       "Michigan           39\n",
       "Missouri           39\n",
       "Oregon             32\n",
       "Kansas             30\n",
       "Nevada             29\n",
       "Tennessee          26\n",
       "Connecticut        24\n",
       "Washington DC      21\n",
       "Kentucky           21\n",
       "South Carolina     21\n",
       "Wisconsin          20\n",
       "Alabama            15\n",
       "Oklahoma           12\n",
       "Utah               11\n",
       "Nebraska           10\n",
       "Iowa               10\n",
       "Louisiana          10\n",
       "New Mexico          9\n",
       "Delaware            9\n",
       "Rhode Island        9\n",
       "New Hampshire       8\n",
       "Arkansas            6\n",
       "West Virginia       6\n",
       "Maine               5\n",
       "Idaho               4\n",
       "Montana             3\n",
       "North Dakota        2\n",
       "Mississippi         2\n",
       "Vermont             2\n",
       "Wyoming             1\n",
       "Name: state, dtype: int64"
      ]
     },
     "execution_count": 8,
     "metadata": {},
     "output_type": "execute_result"
    }
   ],
   "source": [
    "stores[\"state\"].value_counts()"
   ]
  },
  {
   "cell_type": "code",
   "execution_count": 9,
   "metadata": {},
   "outputs": [
    {
     "data": {
      "text/html": [
       "<div>\n",
       "<style scoped>\n",
       "    .dataframe tbody tr th:only-of-type {\n",
       "        vertical-align: middle;\n",
       "    }\n",
       "\n",
       "    .dataframe tbody tr th {\n",
       "        vertical-align: top;\n",
       "    }\n",
       "\n",
       "    .dataframe thead th {\n",
       "        text-align: right;\n",
       "    }\n",
       "</style>\n",
       "<table border=\"1\" class=\"dataframe\">\n",
       "  <thead>\n",
       "    <tr style=\"text-align: right;\">\n",
       "      <th></th>\n",
       "      <th>address</th>\n",
       "      <th>latitude</th>\n",
       "      <th>longitude</th>\n",
       "    </tr>\n",
       "  </thead>\n",
       "  <tbody>\n",
       "    <tr>\n",
       "      <th>0</th>\n",
       "      <td>346 W Magnolia Ave Auburn, AL 36832 US</td>\n",
       "      <td>32.606813</td>\n",
       "      <td>-85.487328</td>\n",
       "    </tr>\n",
       "    <tr>\n",
       "      <th>1</th>\n",
       "      <td>300 20th St S Birmingham, AL 35233 US</td>\n",
       "      <td>33.509721</td>\n",
       "      <td>-86.802756</td>\n",
       "    </tr>\n",
       "    <tr>\n",
       "      <th>2</th>\n",
       "      <td>3220 Morrow Rd Birmingham, AL 35235 US</td>\n",
       "      <td>33.595581</td>\n",
       "      <td>-86.647437</td>\n",
       "    </tr>\n",
       "    <tr>\n",
       "      <th>3</th>\n",
       "      <td>4719 Highway 280 Birmingham, AL 35242 US</td>\n",
       "      <td>33.422582</td>\n",
       "      <td>-86.698279</td>\n",
       "    </tr>\n",
       "    <tr>\n",
       "      <th>4</th>\n",
       "      <td>1821 Cherokee Ave SW Cullman, AL 35055 US</td>\n",
       "      <td>34.154134</td>\n",
       "      <td>-86.841220</td>\n",
       "    </tr>\n",
       "    <tr>\n",
       "      <th>...</th>\n",
       "      <td>...</td>\n",
       "      <td>...</td>\n",
       "      <td>...</td>\n",
       "    </tr>\n",
       "    <tr>\n",
       "      <th>2624</th>\n",
       "      <td>9370 76th St # B Pleasant Prairie, WI 53158 US</td>\n",
       "      <td>42.565892</td>\n",
       "      <td>-87.921048</td>\n",
       "    </tr>\n",
       "    <tr>\n",
       "      <th>2625</th>\n",
       "      <td>2711 N Mayfair Rd Ste A Wauwatosa, WI 53222 US</td>\n",
       "      <td>43.067723</td>\n",
       "      <td>-88.048222</td>\n",
       "    </tr>\n",
       "    <tr>\n",
       "      <th>2626</th>\n",
       "      <td>1204 19th Ave N Fargo, ND 58102 US</td>\n",
       "      <td>46.904247</td>\n",
       "      <td>-96.796618</td>\n",
       "    </tr>\n",
       "    <tr>\n",
       "      <th>2627</th>\n",
       "      <td>1680 45th St S Fargo, ND 58103 US</td>\n",
       "      <td>46.855337</td>\n",
       "      <td>-96.861416</td>\n",
       "    </tr>\n",
       "    <tr>\n",
       "      <th>2628</th>\n",
       "      <td>1508 Dell Range Blvd Cheyenne, WY 82009 US</td>\n",
       "      <td>41.160718</td>\n",
       "      <td>-104.805699</td>\n",
       "    </tr>\n",
       "  </tbody>\n",
       "</table>\n",
       "<p>2629 rows × 3 columns</p>\n",
       "</div>"
      ],
      "text/plain": [
       "                                             address   latitude   longitude\n",
       "0             346 W Magnolia Ave Auburn, AL 36832 US  32.606813  -85.487328\n",
       "1              300 20th St S Birmingham, AL 35233 US  33.509721  -86.802756\n",
       "2             3220 Morrow Rd Birmingham, AL 35235 US  33.595581  -86.647437\n",
       "3           4719 Highway 280 Birmingham, AL 35242 US  33.422582  -86.698279\n",
       "4          1821 Cherokee Ave SW Cullman, AL 35055 US  34.154134  -86.841220\n",
       "...                                              ...        ...         ...\n",
       "2624  9370 76th St # B Pleasant Prairie, WI 53158 US  42.565892  -87.921048\n",
       "2625  2711 N Mayfair Rd Ste A Wauwatosa, WI 53222 US  43.067723  -88.048222\n",
       "2626              1204 19th Ave N Fargo, ND 58102 US  46.904247  -96.796618\n",
       "2627               1680 45th St S Fargo, ND 58103 US  46.855337  -96.861416\n",
       "2628      1508 Dell Range Blvd Cheyenne, WY 82009 US  41.160718 -104.805699\n",
       "\n",
       "[2629 rows x 3 columns]"
      ]
     },
     "execution_count": 9,
     "metadata": {},
     "output_type": "execute_result"
    }
   ],
   "source": [
    "stripped_stores = stores[[\"address\", \"latitude\", \"longitude\"]].copy()\n",
    "stripped_stores"
   ]
  },
  {
   "cell_type": "code",
   "execution_count": 6,
   "metadata": {},
   "outputs": [
    {
     "data": {
      "text/html": [
       "<div>\n",
       "<style scoped>\n",
       "    .dataframe tbody tr th:only-of-type {\n",
       "        vertical-align: middle;\n",
       "    }\n",
       "\n",
       "    .dataframe tbody tr th {\n",
       "        vertical-align: top;\n",
       "    }\n",
       "\n",
       "    .dataframe thead th {\n",
       "        text-align: right;\n",
       "    }\n",
       "</style>\n",
       "<table border=\"1\" class=\"dataframe\">\n",
       "  <thead>\n",
       "    <tr style=\"text-align: right;\">\n",
       "      <th></th>\n",
       "      <th>address</th>\n",
       "      <th>latitude</th>\n",
       "      <th>longitude</th>\n",
       "    </tr>\n",
       "  </thead>\n",
       "  <tbody>\n",
       "    <tr>\n",
       "      <th>0</th>\n",
       "      <td>346 W Magnolia Ave Auburn, AL 36832 US</td>\n",
       "      <td>32.606813</td>\n",
       "      <td>-85.487328</td>\n",
       "    </tr>\n",
       "    <tr>\n",
       "      <th>1</th>\n",
       "      <td>300 20th St S Birmingham, AL 35233 US</td>\n",
       "      <td>33.509721</td>\n",
       "      <td>-86.802756</td>\n",
       "    </tr>\n",
       "    <tr>\n",
       "      <th>2</th>\n",
       "      <td>3220 Morrow Rd Birmingham, AL 35235 US</td>\n",
       "      <td>33.595581</td>\n",
       "      <td>-86.647437</td>\n",
       "    </tr>\n",
       "    <tr>\n",
       "      <th>3</th>\n",
       "      <td>4719 Highway 280 Birmingham, AL 35242 US</td>\n",
       "      <td>33.422582</td>\n",
       "      <td>-86.698279</td>\n",
       "    </tr>\n",
       "    <tr>\n",
       "      <th>4</th>\n",
       "      <td>1821 Cherokee Ave SW Cullman, AL 35055 US</td>\n",
       "      <td>34.154134</td>\n",
       "      <td>-86.841220</td>\n",
       "    </tr>\n",
       "    <tr>\n",
       "      <th>...</th>\n",
       "      <td>...</td>\n",
       "      <td>...</td>\n",
       "      <td>...</td>\n",
       "    </tr>\n",
       "    <tr>\n",
       "      <th>2624</th>\n",
       "      <td>9370 76th St # B Pleasant Prairie, WI 53158 US</td>\n",
       "      <td>42.565892</td>\n",
       "      <td>-87.921048</td>\n",
       "    </tr>\n",
       "    <tr>\n",
       "      <th>2625</th>\n",
       "      <td>2711 N Mayfair Rd Ste A Wauwatosa, WI 53222 US</td>\n",
       "      <td>43.067723</td>\n",
       "      <td>-88.048222</td>\n",
       "    </tr>\n",
       "    <tr>\n",
       "      <th>2626</th>\n",
       "      <td>1204 19th Ave N Fargo, ND 58102 US</td>\n",
       "      <td>46.904247</td>\n",
       "      <td>-96.796618</td>\n",
       "    </tr>\n",
       "    <tr>\n",
       "      <th>2627</th>\n",
       "      <td>1680 45th St S Fargo, ND 58103 US</td>\n",
       "      <td>46.855337</td>\n",
       "      <td>-96.861416</td>\n",
       "    </tr>\n",
       "    <tr>\n",
       "      <th>2628</th>\n",
       "      <td>1508 Dell Range Blvd Cheyenne, WY 82009 US</td>\n",
       "      <td>41.160718</td>\n",
       "      <td>-104.805699</td>\n",
       "    </tr>\n",
       "  </tbody>\n",
       "</table>\n",
       "<p>2629 rows × 3 columns</p>\n",
       "</div>"
      ],
      "text/plain": [
       "                                             address   latitude   longitude\n",
       "0             346 W Magnolia Ave Auburn, AL 36832 US  32.606813  -85.487328\n",
       "1              300 20th St S Birmingham, AL 35233 US  33.509721  -86.802756\n",
       "2             3220 Morrow Rd Birmingham, AL 35235 US  33.595581  -86.647437\n",
       "3           4719 Highway 280 Birmingham, AL 35242 US  33.422582  -86.698279\n",
       "4          1821 Cherokee Ave SW Cullman, AL 35055 US  34.154134  -86.841220\n",
       "...                                              ...        ...         ...\n",
       "2624  9370 76th St # B Pleasant Prairie, WI 53158 US  42.565892  -87.921048\n",
       "2625  2711 N Mayfair Rd Ste A Wauwatosa, WI 53222 US  43.067723  -88.048222\n",
       "2626              1204 19th Ave N Fargo, ND 58102 US  46.904247  -96.796618\n",
       "2627               1680 45th St S Fargo, ND 58103 US  46.855337  -96.861416\n",
       "2628      1508 Dell Range Blvd Cheyenne, WY 82009 US  41.160718 -104.805699\n",
       "\n",
       "[2629 rows x 3 columns]"
      ]
     },
     "execution_count": 6,
     "metadata": {},
     "output_type": "execute_result"
    }
   ],
   "source": [
    "stripped_stores = stripped_stores.drop_duplicates(keep=\"first\")\n",
    "stripped_stores"
   ]
  },
  {
   "cell_type": "code",
   "execution_count": 11,
   "metadata": {},
   "outputs": [
    {
     "name": "stderr",
     "output_type": "stream",
     "text": [
      "Matplotlib is building the font cache; this may take a moment.\n"
     ]
    },
    {
     "data": {
      "text/plain": [
       "<AxesSubplot:xlabel='longitude', ylabel='latitude'>"
      ]
     },
     "execution_count": 11,
     "metadata": {},
     "output_type": "execute_result"
    },
    {
     "data": {
      "image/png": "[encoded data removed]",
      "text/plain": [
       "<Figure size 432x288 with 1 Axes>"
      ]
     },
     "metadata": {
      "needs_background": "light"
     },
     "output_type": "display_data"
    }
   ],
   "source": [
    "stripped_stores.plot(kind=\"scatter\", x=\"longitude\", y=\"latitude\")"
   ]
  },
  {
   "cell_type": "code",
   "execution_count": 12,
   "metadata": {},
   "outputs": [
    {
     "data": {
      "image/png": "[encoded data removed]",
      "text/plain": [
       "<Figure size 1440x1080 with 2 Axes>"
      ]
     },
     "metadata": {
      "needs_background": "light"
     },
     "output_type": "display_data"
    }
   ],
   "source": [
    "import matplotlib.pyplot as plt\n",
    "stripped_stores.hist(bins=50, figsize=(20,15))\n",
    "plt.show()"
   ]
  },
  {
   "cell_type": "code",
   "execution_count": 15,
   "metadata": {},
   "outputs": [],
   "source": [
    "from sklearn.model_selection import train_test_split\n",
    "\n",
    "train_set, test_set = train_test_split(stripped_stores, test_size=0.2, random_state=42)"
   ]
  },
  {
   "cell_type": "code",
   "execution_count": 16,
   "metadata": {},
   "outputs": [
    {
     "data": {
      "text/html": [
       "<div>\n",
       "<style scoped>\n",
       "    .dataframe tbody tr th:only-of-type {\n",
       "        vertical-align: middle;\n",
       "    }\n",
       "\n",
       "    .dataframe tbody tr th {\n",
       "        vertical-align: top;\n",
       "    }\n",
       "\n",
       "    .dataframe thead th {\n",
       "        text-align: right;\n",
       "    }\n",
       "</style>\n",
       "<table border=\"1\" class=\"dataframe\">\n",
       "  <thead>\n",
       "    <tr style=\"text-align: right;\">\n",
       "      <th></th>\n",
       "      <th>address</th>\n",
       "      <th>latitude</th>\n",
       "      <th>longitude</th>\n",
       "    </tr>\n",
       "  </thead>\n",
       "  <tbody>\n",
       "    <tr>\n",
       "      <th>221</th>\n",
       "      <td>501 N State College Blvd Ste A Fullerton, CA 9...</td>\n",
       "      <td>33.874571</td>\n",
       "      <td>-117.890173</td>\n",
       "    </tr>\n",
       "    <tr>\n",
       "      <th>318</th>\n",
       "      <td>1715 Trancas St Suite D Napa, CA 94558 US</td>\n",
       "      <td>38.321300</td>\n",
       "      <td>-122.305961</td>\n",
       "    </tr>\n",
       "    <tr>\n",
       "      <th>926</th>\n",
       "      <td>5961 N Lincoln Ave Suite 101 Chicago, IL 60659 US</td>\n",
       "      <td>41.989552</td>\n",
       "      <td>-87.705566</td>\n",
       "    </tr>\n",
       "    <tr>\n",
       "      <th>2489</th>\n",
       "      <td>13300 Rittenhouse Dr Midlothian, VA 23112 US</td>\n",
       "      <td>37.415544</td>\n",
       "      <td>-77.641184</td>\n",
       "    </tr>\n",
       "    <tr>\n",
       "      <th>1420</th>\n",
       "      <td>2391 N Highway 67 Florissant, MO 63033 US</td>\n",
       "      <td>38.804604</td>\n",
       "      <td>-90.308598</td>\n",
       "    </tr>\n",
       "  </tbody>\n",
       "</table>\n",
       "</div>"
      ],
      "text/plain": [
       "                                                address   latitude   longitude\n",
       "221   501 N State College Blvd Ste A Fullerton, CA 9...  33.874571 -117.890173\n",
       "318           1715 Trancas St Suite D Napa, CA 94558 US  38.321300 -122.305961\n",
       "926   5961 N Lincoln Ave Suite 101 Chicago, IL 60659 US  41.989552  -87.705566\n",
       "2489       13300 Rittenhouse Dr Midlothian, VA 23112 US  37.415544  -77.641184\n",
       "1420          2391 N Highway 67 Florissant, MO 63033 US  38.804604  -90.308598"
      ]
     },
     "execution_count": 16,
     "metadata": {},
     "output_type": "execute_result"
    }
   ],
   "source": [
    "test_set.head()"
   ]
  },
  {
   "cell_type": "code",
   "execution_count": 17,
   "metadata": {},
   "outputs": [
    {
     "data": {
      "text/html": [
       "<div>\n",
       "<style scoped>\n",
       "    .dataframe tbody tr th:only-of-type {\n",
       "        vertical-align: middle;\n",
       "    }\n",
       "\n",
       "    .dataframe tbody tr th {\n",
       "        vertical-align: top;\n",
       "    }\n",
       "\n",
       "    .dataframe thead th {\n",
       "        text-align: right;\n",
       "    }\n",
       "</style>\n",
       "<table border=\"1\" class=\"dataframe\">\n",
       "  <thead>\n",
       "    <tr style=\"text-align: right;\">\n",
       "      <th></th>\n",
       "      <th>address</th>\n",
       "      <th>latitude</th>\n",
       "      <th>longitude</th>\n",
       "    </tr>\n",
       "  </thead>\n",
       "  <tbody>\n",
       "    <tr>\n",
       "      <th>1208</th>\n",
       "      <td>3333 Olney Sandy Springs Rd Olney, MD 20832 US</td>\n",
       "      <td>39.153198</td>\n",
       "      <td>-77.066176</td>\n",
       "    </tr>\n",
       "    <tr>\n",
       "      <th>2356</th>\n",
       "      <td>10645 Broadway St Ste 118 Pearland, TX 77584 US</td>\n",
       "      <td>29.556469</td>\n",
       "      <td>-95.386450</td>\n",
       "    </tr>\n",
       "    <tr>\n",
       "      <th>482</th>\n",
       "      <td>3640-A Lake Tahoe Blvd Suite 100 South Lake Ta...</td>\n",
       "      <td>38.947987</td>\n",
       "      <td>-119.958031</td>\n",
       "    </tr>\n",
       "    <tr>\n",
       "      <th>1199</th>\n",
       "      <td>9301 Woodmore Center Dr Ste 514 Lanham, MD 207...</td>\n",
       "      <td>38.921372</td>\n",
       "      <td>-76.846350</td>\n",
       "    </tr>\n",
       "    <tr>\n",
       "      <th>438</th>\n",
       "      <td>1566 Monterey Hwy Ste 10 San Jose, CA 95110 US</td>\n",
       "      <td>37.314442</td>\n",
       "      <td>-121.871406</td>\n",
       "    </tr>\n",
       "  </tbody>\n",
       "</table>\n",
       "</div>"
      ],
      "text/plain": [
       "                                                address   latitude   longitude\n",
       "1208     3333 Olney Sandy Springs Rd Olney, MD 20832 US  39.153198  -77.066176\n",
       "2356    10645 Broadway St Ste 118 Pearland, TX 77584 US  29.556469  -95.386450\n",
       "482   3640-A Lake Tahoe Blvd Suite 100 South Lake Ta...  38.947987 -119.958031\n",
       "1199  9301 Woodmore Center Dr Ste 514 Lanham, MD 207...  38.921372  -76.846350\n",
       "438      1566 Monterey Hwy Ste 10 San Jose, CA 95110 US  37.314442 -121.871406"
      ]
     },
     "execution_count": 17,
     "metadata": {},
     "output_type": "execute_result"
    }
   ],
   "source": [
    "train_set.head()"
   ]
  },
  {
   "cell_type": "code",
   "execution_count": 20,
   "metadata": {},
   "outputs": [
    {
     "data": {
      "text/plain": [
       "KNeighborsClassifier(n_neighbors=2, weights='distance')"
      ]
     },
     "execution_count": 20,
     "metadata": {},
     "output_type": "execute_result"
    }
   ],
   "source": [
    "train_set_no_labels = train_set.drop(\"address\", axis=1) #drop labels for training data\n",
    "train_set_labels = train_set[\"address\"].copy()\n",
    "\n",
    "from sklearn.neighbors import KNeighborsClassifier\n",
    "\n",
    "model = KNeighborsClassifier(n_neighbors=2, weights=\"distance\", algorithm=\"auto\")\n",
    "model.fit(train_set_no_labels, train_set_labels)"
   ]
  },
  {
   "cell_type": "code",
   "execution_count": 24,
   "metadata": {},
   "outputs": [
    {
     "data": {
      "text/plain": [
       "array(['3333 Olney Sandy Springs Rd Olney, MD 20832 US'], dtype=object)"
      ]
     },
     "execution_count": 24,
     "metadata": {},
     "output_type": "execute_result"
    }
   ],
   "source": [
    "model.predict([[39.153198, -77.066176]])"
   ]
  },
  {
   "cell_type": "code",
   "execution_count": null,
   "metadata": {},
   "outputs": [],
   "source": []
  }
 ],
 "metadata": {
  "kernelspec": {
   "display_name": "Python 3",
   "language": "python",
   "name": "python3"
  },
  "language_info": {
   "codemirror_mode": {
    "name": "ipython",
    "version": 3
   },
   "file_extension": ".py",
   "mimetype": "text/x-python",
   "name": "python",
   "nbconvert_exporter": "python",
   "pygments_lexer": "ipython3",
   "version": "3.7.2"
  }
 },
 "nbformat": 4,
 "nbformat_minor": 4
}
